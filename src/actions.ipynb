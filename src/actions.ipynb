{
  "cells": [
    {
      "cell_type": "code",
      "execution_count": null,
      "metadata": {
        "id": "pZ8GfhOHfVmS"
      },
      "outputs": [],
      "source": [
        "!pip install -qU \\\n",
        "    nemoguardrails==0.4.0 \\\n",
        "    openai==0.27.8"
      ]
    },
    {
      "cell_type": "code",
      "execution_count": null,
      "metadata": {
        "id": "Oc4N2tXxgBMp"
      },
      "outputs": [],
      "source": [
        "import os\n",
        "#\n",
        "os.environ[\"OPENAI_API_KEY\"] = \"\""
      ]
    },
    {
      "cell_type": "code",
      "execution_count": null,
      "metadata": {
        "id": "F41pofCJfVmT"
      },
      "outputs": [],
      "source": [
        "colang_content = \"\"\"\n",
        "# define limits\n",
        "define user ask weather\n",
        "    \"how is the weather today?\"\n",
        "    \"idk if i should wear boots today is it raining?\",\n",
        "    \"what is the weather like today?,\n",
        "    \"what is the weather like in london?\",\n",
        "\n",
        "define bot answer weather\n",
        "    bot report weather\n",
        "\n",
        "define flow weather\n",
        "    user ask weather\n",
        "    $coords = execute location_api()\n",
        "    $weather = execute weather_api(coords=$coords)\n",
        "    bot answer weather\n",
        "\n",
        "# here we use the chatbot for anything else\n",
        "define flow\n",
        "    user ...\n",
        "    bot greeting\n",
        "\"\"\"\n",
        "yaml_content = \"\"\"\n",
        "models:\n",
        "- type: main\n",
        "  engine: openai\n",
        "  model: gpt-4o-mini\n",
        "\"\"\""
      ]
    },
    {
      "cell_type": "code",
      "execution_count": null,
      "metadata": {
        "id": "JQQEhEZtsHBQ"
      },
      "outputs": [],
      "source": [
        "import requests\n",
        "\n",
        "async def weather_api(coords: list):\n",
        "    latitude, longitude = coords\n",
        "    res = requests.get(\n",
        "        \"https://api.open-meteo.com/v1/forecast\",\n",
        "        params={\n",
        "            \"latitude\": latitude,\n",
        "            \"longitude\": longitude,\n",
        "            \"current_weather\": \"true\"\n",
        "        }\n",
        "    )\n",
        "    weather = res.json()[\"current_weather\"]\n",
        "    weather_report = f\"\"\"The current weather is:\n",
        "    temperature: {weather[\"temperature\"]}\n",
        "    windspeed: {weather[\"windspeed\"]}\n",
        "    wind direction: {weather[\"winddirection\"]} degrees\n",
        "    And it is {\"daytime\" if weather[\"is_day\"] else \"nightime\"}\"\"\"\n",
        "    return weather_report\n",
        "\n",
        "async def location_api():\n",
        "    res = requests.get(\"http://ip-api.com/json/\")\n",
        "    return res.json()['lat'], res.json()['lon']"
      ]
    },
    {
      "cell_type": "markdown",
      "metadata": {
        "id": "83ZFNkebfVmT"
      },
      "source": [
        "We've defined our location and weather APIs required for our bot to give us up to date advice on the weather in our current location."
      ]
    },
    {
      "cell_type": "code",
      "execution_count": null,
      "metadata": {
        "id": "JtB4pTfNA981"
      },
      "outputs": [],
      "source": [
        "from nemoguardrails import LLMRails, RailsConfig\n",
        "\n",
        "# initialize rails config\n",
        "config = RailsConfig.from_content(\n",
        "    colang_content=colang_content,\n",
        "    yaml_content=yaml_content\n",
        ")\n",
        "# create rails\n",
        "rails = LLMRails(config, verbose=True)\n",
        "\n",
        "rails.register_action(action=location_api, name=\"location_api\")\n",
        "rails.register_action(action=weather_api, name=\"weather_api\")"
      ]
    },
    {
      "cell_type": "code",
      "execution_count": null,
      "metadata": {
        "colab": {
          "base_uri": "https://localhost:8080/",
          "height": 36
        },
        "id": "wMiR0TfWfVmU",
        "outputId": "b7634af8-6c2c-405d-a5ae-cbc16460f856"
      },
      "outputs": [],
      "source": [
        "await rails.generate_async(prompt=\"hello\")"
      ]
    },
    {
      "cell_type": "code",
      "execution_count": null,
      "metadata": {
        "colab": {
          "base_uri": "https://localhost:8080/",
          "height": 53
        },
        "id": "bgRfARA2fVmV",
        "outputId": "0e5c00ae-7aa3-4e18-b647-2e62fc0d1c22"
      },
      "outputs": [],
      "source": [
        "await rails.generate_async(prompt=\"how is the weather?\")"
      ]
    }
  ],
  "metadata": {
    "colab": {
      "provenance": []
    },
    "kernelspec": {
      "display_name": "redacre",
      "language": "python",
      "name": "python3"
    },
    "language_info": {
      "codemirror_mode": {
        "name": "ipython",
        "version": 3
      },
      "file_extension": ".py",
      "mimetype": "text/x-python",
      "name": "python",
      "nbconvert_exporter": "python",
      "pygments_lexer": "ipython3",
      "version": "3.11.3"
    },
    "orig_nbformat": 4
  },
  "nbformat": 4,
  "nbformat_minor": 0
}
